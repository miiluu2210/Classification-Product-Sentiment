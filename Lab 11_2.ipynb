{
 "cells": [
  {
   "cell_type": "markdown",
   "metadata": {
    "id": "pNc3LcE1mecc"
   },
   "source": [
    "#Phân loại cảm xúc từ các bình luận sản phẩm\n",
    "\n"
   ]
  },
  {
   "cell_type": "markdown",
   "metadata": {
    "id": "cRTXgBCAQlxN"
   },
   "source": [
    "Hãy import các thư viện. Bạn nên cài **nltk** trước khi thực hiện lab này. "
   ]
  },
  {
   "cell_type": "code",
   "execution_count": 1,
   "metadata": {
    "id": "g2g3yVrbmece"
   },
   "outputs": [
    {
     "name": "stderr",
     "output_type": "stream",
     "text": [
      "[nltk_data] Downloading package punkt to\n",
      "[nltk_data]     C:\\Users\\admin\\AppData\\Roaming\\nltk_data...\n",
      "[nltk_data]   Package punkt is already up-to-date!\n"
     ]
    },
    {
     "data": {
      "text/plain": [
       "True"
      ]
     },
     "execution_count": 1,
     "metadata": {},
     "output_type": "execute_result"
    }
   ],
   "source": [
    "import sklearn, pandas\n",
    "import numpy as np\n",
    "\n",
    "import nltk\n",
    "nltk.download('punkt')"
   ]
  },
  {
   "cell_type": "markdown",
   "metadata": {
    "id": "53nDfj7Umecn"
   },
   "source": [
    "#Đọc một số dữ liệu bình luận sản phẩm\n",
    "\n",
    "Hãy load các bình luận cho một tập các sản phẩm dành cho trẻ sơ sinh. Tập dữ liệu này tên là **\"amazon_baby.csv\"**."
   ]
  },
  {
   "cell_type": "code",
   "execution_count": 2,
   "metadata": {
    "id": "o5iMNYzrmecp"
   },
   "outputs": [],
   "source": [
    "#Import file CSV\n",
    "products = pandas.read_csv('amazon_baby.csv')"
   ]
  },
  {
   "cell_type": "markdown",
   "metadata": {
    "id": "uDeVTDl7mecv"
   },
   "source": [
    "#Hãy cùng nhau khám phá dữ liệu này\n",
    "\n",
    "Dữ liệu gồm tên sản phẩm, văn bản bình luận và xếp hạng của bình luận."
   ]
  },
  {
   "cell_type": "code",
   "execution_count": 3,
   "metadata": {
    "id": "YZQcn1vymecx",
    "outputId": "c8e2c134-e275-4882-8a75-68b83b2c6b45"
   },
   "outputs": [
    {
     "data": {
      "text/html": [
       "<div>\n",
       "<style scoped>\n",
       "    .dataframe tbody tr th:only-of-type {\n",
       "        vertical-align: middle;\n",
       "    }\n",
       "\n",
       "    .dataframe tbody tr th {\n",
       "        vertical-align: top;\n",
       "    }\n",
       "\n",
       "    .dataframe thead th {\n",
       "        text-align: right;\n",
       "    }\n",
       "</style>\n",
       "<table border=\"1\" class=\"dataframe\">\n",
       "  <thead>\n",
       "    <tr style=\"text-align: right;\">\n",
       "      <th></th>\n",
       "      <th>name</th>\n",
       "      <th>review</th>\n",
       "      <th>rating</th>\n",
       "    </tr>\n",
       "  </thead>\n",
       "  <tbody>\n",
       "    <tr>\n",
       "      <th>0</th>\n",
       "      <td>Planetwise Flannel Wipes</td>\n",
       "      <td>These flannel wipes are OK, but in my opinion ...</td>\n",
       "      <td>3</td>\n",
       "    </tr>\n",
       "    <tr>\n",
       "      <th>1</th>\n",
       "      <td>Planetwise Wipe Pouch</td>\n",
       "      <td>it came early and was not disappointed. i love...</td>\n",
       "      <td>5</td>\n",
       "    </tr>\n",
       "    <tr>\n",
       "      <th>2</th>\n",
       "      <td>Annas Dream Full Quilt with 2 Shams</td>\n",
       "      <td>Very soft and comfortable and warmer than it l...</td>\n",
       "      <td>5</td>\n",
       "    </tr>\n",
       "    <tr>\n",
       "      <th>3</th>\n",
       "      <td>Stop Pacifier Sucking without tears with Thumb...</td>\n",
       "      <td>This is a product well worth the purchase.  I ...</td>\n",
       "      <td>5</td>\n",
       "    </tr>\n",
       "    <tr>\n",
       "      <th>4</th>\n",
       "      <td>Stop Pacifier Sucking without tears with Thumb...</td>\n",
       "      <td>All of my kids have cried non-stop when I trie...</td>\n",
       "      <td>5</td>\n",
       "    </tr>\n",
       "  </tbody>\n",
       "</table>\n",
       "</div>"
      ],
      "text/plain": [
       "                                                name  \\\n",
       "0                           Planetwise Flannel Wipes   \n",
       "1                              Planetwise Wipe Pouch   \n",
       "2                Annas Dream Full Quilt with 2 Shams   \n",
       "3  Stop Pacifier Sucking without tears with Thumb...   \n",
       "4  Stop Pacifier Sucking without tears with Thumb...   \n",
       "\n",
       "                                              review  rating  \n",
       "0  These flannel wipes are OK, but in my opinion ...       3  \n",
       "1  it came early and was not disappointed. i love...       5  \n",
       "2  Very soft and comfortable and warmer than it l...       5  \n",
       "3  This is a product well worth the purchase.  I ...       5  \n",
       "4  All of my kids have cried non-stop when I trie...       5  "
      ]
     },
     "execution_count": 3,
     "metadata": {},
     "output_type": "execute_result"
    }
   ],
   "source": [
    "products.head()"
   ]
  },
  {
   "cell_type": "markdown",
   "metadata": {
    "id": "7X6ohrLlmec4"
   },
   "source": [
    "#Hãy xây dựng vectơ word count (đếm từ) cho từng bình luận"
   ]
  },
  {
   "cell_type": "markdown",
   "metadata": {
    "id": "ixbe0fotB7nw"
   },
   "source": [
    "Nếu bạn không quen với nltk, hãy xem các hướng dẫn sau:\n",
    "\n",
    "* [Xử Lý Ngôn Ngữ Tự Nhiên với Python và NLTK](https://viblo.asia/s/xu-ly-ngon-ngu-tu-nhien-voi-python-Je5Ejz9wKnL)\n",
    "\n",
    "* [Xây Dựng Chatbot Bằng NLTK & Keras – Python Chatbot Project](https://tek4.vn/xay-dung-chatbot-bang-nltk-keras-python-chatbot-project/)\n",
    "\n",
    "* [Hướng dẫn NLP bằng Python NLTK (Ví dụ đơn giản)](https://helpex.vn/article/huong-dan-nlp-bang-python-nltk-vi-du-don-gian-5c663a0eae03f60128764f35)\n"
   ]
  },
  {
   "cell_type": "markdown",
   "metadata": {
    "id": "XTSLpOh8Q9er"
   },
   "source": [
    "Chúng ta sẽ sử dụng thư viện **nltk** để tạo vectơ count."
   ]
  },
  {
   "cell_type": "code",
   "execution_count": 4,
   "metadata": {
    "id": "B9q1Fdfhmec6"
   },
   "outputs": [],
   "source": [
    "#products['review'].dtype\n",
    "from nltk.tokenize import word_tokenize\n",
    "\"\"\"This function will return a dictionary \n",
    "  where its key is the word from the string (input) and \n",
    "  its value is the number of the appearance of this word in the string\"\"\"\n",
    "def word_count_function(string):\n",
    "  count = {}\n",
    "  for word in word_tokenize(string.strip()):\n",
    "    count[word] = count.get(word, 0) + 1\n",
    "    \n",
    "  return count\n",
    "\n",
    "# Tạo vectơ count cho các bình luận\n",
    "products['word_count'] = products[ 'review' ].map(word_count_function, na_action=\"ignore\")"
   ]
  },
  {
   "cell_type": "code",
   "execution_count": 5,
   "metadata": {
    "id": "DN2dpoc5medC",
    "outputId": "360c108b-2618-4ea4-c4a4-9bf4ab1d5973"
   },
   "outputs": [
    {
     "data": {
      "text/html": [
       "<div>\n",
       "<style scoped>\n",
       "    .dataframe tbody tr th:only-of-type {\n",
       "        vertical-align: middle;\n",
       "    }\n",
       "\n",
       "    .dataframe tbody tr th {\n",
       "        vertical-align: top;\n",
       "    }\n",
       "\n",
       "    .dataframe thead th {\n",
       "        text-align: right;\n",
       "    }\n",
       "</style>\n",
       "<table border=\"1\" class=\"dataframe\">\n",
       "  <thead>\n",
       "    <tr style=\"text-align: right;\">\n",
       "      <th></th>\n",
       "      <th>name</th>\n",
       "      <th>review</th>\n",
       "      <th>rating</th>\n",
       "      <th>word_count</th>\n",
       "    </tr>\n",
       "  </thead>\n",
       "  <tbody>\n",
       "    <tr>\n",
       "      <th>0</th>\n",
       "      <td>Planetwise Flannel Wipes</td>\n",
       "      <td>These flannel wipes are OK, but in my opinion ...</td>\n",
       "      <td>3</td>\n",
       "      <td>{'These': 1, 'flannel': 1, 'wipes': 2, 'are': ...</td>\n",
       "    </tr>\n",
       "    <tr>\n",
       "      <th>1</th>\n",
       "      <td>Planetwise Wipe Pouch</td>\n",
       "      <td>it came early and was not disappointed. i love...</td>\n",
       "      <td>5</td>\n",
       "      <td>{'it': 3, 'came': 1, 'early': 1, 'and': 3, 'wa...</td>\n",
       "    </tr>\n",
       "    <tr>\n",
       "      <th>2</th>\n",
       "      <td>Annas Dream Full Quilt with 2 Shams</td>\n",
       "      <td>Very soft and comfortable and warmer than it l...</td>\n",
       "      <td>5</td>\n",
       "      <td>{'Very': 1, 'soft': 1, 'and': 2, 'comfortable'...</td>\n",
       "    </tr>\n",
       "    <tr>\n",
       "      <th>3</th>\n",
       "      <td>Stop Pacifier Sucking without tears with Thumb...</td>\n",
       "      <td>This is a product well worth the purchase.  I ...</td>\n",
       "      <td>5</td>\n",
       "      <td>{'This': 1, 'is': 4, 'a': 2, 'product': 2, 'we...</td>\n",
       "    </tr>\n",
       "    <tr>\n",
       "      <th>4</th>\n",
       "      <td>Stop Pacifier Sucking without tears with Thumb...</td>\n",
       "      <td>All of my kids have cried non-stop when I trie...</td>\n",
       "      <td>5</td>\n",
       "      <td>{'All': 1, 'of': 1, 'my': 1, 'kids': 2, 'have'...</td>\n",
       "    </tr>\n",
       "  </tbody>\n",
       "</table>\n",
       "</div>"
      ],
      "text/plain": [
       "                                                name  \\\n",
       "0                           Planetwise Flannel Wipes   \n",
       "1                              Planetwise Wipe Pouch   \n",
       "2                Annas Dream Full Quilt with 2 Shams   \n",
       "3  Stop Pacifier Sucking without tears with Thumb...   \n",
       "4  Stop Pacifier Sucking without tears with Thumb...   \n",
       "\n",
       "                                              review  rating  \\\n",
       "0  These flannel wipes are OK, but in my opinion ...       3   \n",
       "1  it came early and was not disappointed. i love...       5   \n",
       "2  Very soft and comfortable and warmer than it l...       5   \n",
       "3  This is a product well worth the purchase.  I ...       5   \n",
       "4  All of my kids have cried non-stop when I trie...       5   \n",
       "\n",
       "                                          word_count  \n",
       "0  {'These': 1, 'flannel': 1, 'wipes': 2, 'are': ...  \n",
       "1  {'it': 3, 'came': 1, 'early': 1, 'and': 3, 'wa...  \n",
       "2  {'Very': 1, 'soft': 1, 'and': 2, 'comfortable'...  \n",
       "3  {'This': 1, 'is': 4, 'a': 2, 'product': 2, 'we...  \n",
       "4  {'All': 1, 'of': 1, 'my': 1, 'kids': 2, 'have'...  "
      ]
     },
     "execution_count": 5,
     "metadata": {},
     "output_type": "execute_result"
    }
   ],
   "source": [
    "products.head()"
   ]
  },
  {
   "cell_type": "markdown",
   "metadata": {
    "id": "-NcFM-sqReFu"
   },
   "source": [
    "Vẽ đồ thị các sản phẩm có nhiều bình luận nhất."
   ]
  },
  {
   "cell_type": "code",
   "execution_count": 6,
   "metadata": {
    "id": "sP9Ifsc2medJ"
   },
   "outputs": [],
   "source": [
    "import matplotlib.pyplot as plt\n",
    "%matplotlib inline"
   ]
  },
  {
   "cell_type": "code",
   "execution_count": 7,
   "metadata": {
    "id": "6n2Igj_WmedQ",
    "outputId": "1ab89b98-489c-446b-bf77-61e3eb6d0fb0"
   },
   "outputs": [
    {
     "name": "stdout",
     "output_type": "stream",
     "text": [
      "[('Vulli Sophie the Giraffe Teether', 785), ('Simple Wishes Hands-Free Breastpump Bra, Pink, XS-L', 562), ('Infant Optics DXR-5 2.4 GHz Digital Video Baby Monitor with Night Vision', 561), ('Baby Einstein Take Along Tunes', 547), ('Cloud b Twilight Constellation Night Light, Turtle', 520)]\n"
     ]
    }
   ],
   "source": [
    "#products['name'].show()\n",
    "#products['name'].dropna().apply(pandas.value_counts) #.plot(kind='bar')\n",
    "#Counter là 1 subclass của dict, tạo ra dict được xếp theo values.\n",
    "\n",
    "from collections import Counter\n",
    "product_counter = Counter(products['name'].dropna().values)\n",
    "print(product_counter.most_common(5))"
   ]
  },
  {
   "cell_type": "code",
   "execution_count": 8,
   "metadata": {
    "id": "C5LK6ewWmedW",
    "outputId": "4b133000-00bf-45c3-85ae-62d45f9d0323"
   },
   "outputs": [
    {
     "data": {
      "image/png": "[encoded data removed]",
      "text/plain": [
       "<Figure size 432x288 with 1 Axes>"
      ]
     },
     "metadata": {
      "needs_background": "light"
     },
     "output_type": "display_data"
    }
   ],
   "source": [
    "# Vẽ đồ thị các sản phẩm có nhiều bình luận nhất.\n",
    "best_products_plotted = 20\n",
    "products_plotted = product_counter.most_common(best_products_plotted)\n",
    "counter_labels, counts = zip(*products_plotted)\n",
    "counter_pos = np.arange(best_products_plotted)\n",
    "plt.barh(counter_pos, counts)\n",
    "plt.yticks(counter_pos, counter_labels)\n",
    "plt.show()"
   ]
  },
  {
   "cell_type": "markdown",
   "metadata": {
    "collapsed": true,
    "id": "zmVTe0X4medd"
   },
   "source": [
    "#Kiểm tra các bình luận cho sản phẩm bán chạy nhất: 'Vulli Sophie the Giraffe Teether'"
   ]
  },
  {
   "cell_type": "code",
   "execution_count": 9,
   "metadata": {
    "id": "QN_lnCJamedj"
   },
   "outputs": [],
   "source": [
    "giraffe_reviews = products.loc[products['name'] == 'Vulli Sophie the Giraffe Teether']"
   ]
  },
  {
   "cell_type": "code",
   "execution_count": 10,
   "metadata": {
    "id": "tNdc_h5vmedo",
    "outputId": "b7940258-50e5-40ba-ca20-541cfe7f0bfa"
   },
   "outputs": [
    {
     "data": {
      "text/plain": [
       "785"
      ]
     },
     "execution_count": 10,
     "metadata": {},
     "output_type": "execute_result"
    }
   ],
   "source": [
    "len(giraffe_reviews)"
   ]
  },
  {
   "cell_type": "code",
   "execution_count": 11,
   "metadata": {
    "id": "HKHkMa-bmedu",
    "outputId": "007245ad-4ddc-4018-d33f-6675fe6adc86"
   },
   "outputs": [
    {
     "data": {
      "image/png": "[encoded data removed]",
      "text/plain": [
       "<Figure size 432x288 with 1 Axes>"
      ]
     },
     "metadata": {
      "needs_background": "light"
     },
     "output_type": "display_data"
    }
   ],
   "source": [
    "#giraffe_reviews['rating'].show(view='Categorical')\n",
    "#Vectorization item most selled\n",
    "\n",
    "#Get rating theo dạng dict\n",
    "rating_counter = Counter(giraffe_reviews['rating'].values)\n",
    "\n",
    "#Counting postitive and assign labels for most item selled.\n",
    "counter_pos = np.arange(len(rating_counter))\n",
    "counter_labels, counts = zip(*rating_counter.items())\n",
    "plt.bar(counter_pos, counts)\n",
    "plt.xticks(counter_pos, counter_labels)\n",
    "for i, v in enumerate(counts):\n",
    "    plt.text(x=i, y=v+4.0, s=str(v), horizontalalignment='center', color='black', fontweight=\"bold\")\n",
    "plt.show()"
   ]
  },
  {
   "cell_type": "markdown",
   "metadata": {
    "id": "xuysAnm-med1"
   },
   "source": [
    "#Xây dựng một bộ phân loại cảm xúc"
   ]
  },
  {
   "cell_type": "code",
   "execution_count": 12,
   "metadata": {
    "id": "tQOATO6Gmed2",
    "outputId": "bbfdd2a5-86e9-4f2f-acb4-c64d35033d26"
   },
   "outputs": [
    {
     "data": {
      "image/png": "[encoded data removed]",
      "text/plain": [
       "<Figure size 432x288 with 1 Axes>"
      ]
     },
     "metadata": {
      "needs_background": "light"
     },
     "output_type": "display_data"
    }
   ],
   "source": [
    "#products['rating'].show(view='Categorical')\n",
    "\n",
    "# Vectorization all items.\n",
    "\n",
    "# Xây dựng một vectơ rating count (số lượng mỗi rating) \n",
    "rating_counter = Counter(products['rating'].values) \n",
    "counter_pos = np.arange(len(rating_counter))\n",
    "counter_labels, counts = zip(*rating_counter.items())\n",
    "plt.bar(counter_pos, counts)\n",
    "plt.xticks(counter_pos, counter_labels)\n",
    "for i, v in enumerate(counts):\n",
    "    plt.text(x=i, y=v+500.0, s=str(v), horizontalalignment='center', color='black', fontweight=\"bold\")\n",
    "plt.show()"
   ]
  },
  {
   "cell_type": "markdown",
   "metadata": {
    "id": "wOAsdMusmed7"
   },
   "source": [
    "##Xác định một câu là tích cực hay tiêu cực\n",
    "\n",
    "Chúng ta sẽ bỏ qua tất cả các bình luận có rating = 3, vì chúng có xu hướng trung lập. Các bài bình luận có rating là 4 hoặc cao hơn sẽ được coi là tích cực, trong khi các bài bình luận từ 2 trở xuống là tiêu cực. "
   ]
  },
  {
   "cell_type": "code",
   "execution_count": 13,
   "metadata": {
    "id": "g0iswu-bmed9"
   },
   "outputs": [],
   "source": [
    "#bỏ qua các bình luận 3* \n",
    "# WRITE YOUR CODE HERE\n",
    "products = products.loc[products['rating'] != 3]"
   ]
  },
  {
   "cell_type": "code",
   "execution_count": 14,
   "metadata": {
    "id": "fDyM6rENmeeF"
   },
   "outputs": [],
   "source": [
    "#tích cực = bình luận 4* hoặc 5*\n",
    "\n",
    "products['sentiment'] = products['rating'] >=4"
   ]
  },
  {
   "cell_type": "code",
   "execution_count": 15,
   "metadata": {
    "id": "NVVDNHmVmeeO",
    "outputId": "3f5d846b-7d10-4265-8779-eee880eac51e"
   },
   "outputs": [
    {
     "data": {
      "text/html": [
       "<div>\n",
       "<style scoped>\n",
       "    .dataframe tbody tr th:only-of-type {\n",
       "        vertical-align: middle;\n",
       "    }\n",
       "\n",
       "    .dataframe tbody tr th {\n",
       "        vertical-align: top;\n",
       "    }\n",
       "\n",
       "    .dataframe thead th {\n",
       "        text-align: right;\n",
       "    }\n",
       "</style>\n",
       "<table border=\"1\" class=\"dataframe\">\n",
       "  <thead>\n",
       "    <tr style=\"text-align: right;\">\n",
       "      <th></th>\n",
       "      <th>name</th>\n",
       "      <th>review</th>\n",
       "      <th>rating</th>\n",
       "      <th>word_count</th>\n",
       "      <th>sentiment</th>\n",
       "    </tr>\n",
       "  </thead>\n",
       "  <tbody>\n",
       "    <tr>\n",
       "      <th>1</th>\n",
       "      <td>Planetwise Wipe Pouch</td>\n",
       "      <td>it came early and was not disappointed. i love...</td>\n",
       "      <td>5</td>\n",
       "      <td>{'it': 3, 'came': 1, 'early': 1, 'and': 3, 'wa...</td>\n",
       "      <td>True</td>\n",
       "    </tr>\n",
       "    <tr>\n",
       "      <th>2</th>\n",
       "      <td>Annas Dream Full Quilt with 2 Shams</td>\n",
       "      <td>Very soft and comfortable and warmer than it l...</td>\n",
       "      <td>5</td>\n",
       "      <td>{'Very': 1, 'soft': 1, 'and': 2, 'comfortable'...</td>\n",
       "      <td>True</td>\n",
       "    </tr>\n",
       "    <tr>\n",
       "      <th>3</th>\n",
       "      <td>Stop Pacifier Sucking without tears with Thumb...</td>\n",
       "      <td>This is a product well worth the purchase.  I ...</td>\n",
       "      <td>5</td>\n",
       "      <td>{'This': 1, 'is': 4, 'a': 2, 'product': 2, 'we...</td>\n",
       "      <td>True</td>\n",
       "    </tr>\n",
       "    <tr>\n",
       "      <th>4</th>\n",
       "      <td>Stop Pacifier Sucking without tears with Thumb...</td>\n",
       "      <td>All of my kids have cried non-stop when I trie...</td>\n",
       "      <td>5</td>\n",
       "      <td>{'All': 1, 'of': 1, 'my': 1, 'kids': 2, 'have'...</td>\n",
       "      <td>True</td>\n",
       "    </tr>\n",
       "    <tr>\n",
       "      <th>5</th>\n",
       "      <td>Stop Pacifier Sucking without tears with Thumb...</td>\n",
       "      <td>When the Binky Fairy came to our house, we did...</td>\n",
       "      <td>5</td>\n",
       "      <td>{'When': 1, 'the': 5, 'Binky': 3, 'Fairy': 3, ...</td>\n",
       "      <td>True</td>\n",
       "    </tr>\n",
       "    <tr>\n",
       "      <th>...</th>\n",
       "      <td>...</td>\n",
       "      <td>...</td>\n",
       "      <td>...</td>\n",
       "      <td>...</td>\n",
       "      <td>...</td>\n",
       "    </tr>\n",
       "    <tr>\n",
       "      <th>183526</th>\n",
       "      <td>Baby Teething Necklace for Mom Pretty Donut Sh...</td>\n",
       "      <td>Such a great idea! very handy to have and look...</td>\n",
       "      <td>5</td>\n",
       "      <td>{'Such': 1, 'a': 1, 'great': 2, 'idea': 1, '!'...</td>\n",
       "      <td>True</td>\n",
       "    </tr>\n",
       "    <tr>\n",
       "      <th>183527</th>\n",
       "      <td>Baby Teething Necklace for Mom Pretty Donut Sh...</td>\n",
       "      <td>This product rocks!  It is a great blend of fu...</td>\n",
       "      <td>5</td>\n",
       "      <td>{'This': 1, 'product': 2, 'rocks': 1, '!': 1, ...</td>\n",
       "      <td>True</td>\n",
       "    </tr>\n",
       "    <tr>\n",
       "      <th>183528</th>\n",
       "      <td>Abstract 2 PK Baby / Toddler Training Cup (Pink)</td>\n",
       "      <td>This item looks great and cool for my kids.......</td>\n",
       "      <td>5</td>\n",
       "      <td>{'This': 1, 'item': 1, 'looks': 1, 'great': 2,...</td>\n",
       "      <td>True</td>\n",
       "    </tr>\n",
       "    <tr>\n",
       "      <th>183529</th>\n",
       "      <td>Baby Food Freezer Tray - Bacteria Resistant, B...</td>\n",
       "      <td>I am extremely happy with this product. I have...</td>\n",
       "      <td>5</td>\n",
       "      <td>{'I': 9, 'am': 2, 'extremely': 1, 'happy': 1, ...</td>\n",
       "      <td>True</td>\n",
       "    </tr>\n",
       "    <tr>\n",
       "      <th>183530</th>\n",
       "      <td>Best 2 Pack Baby Car Shade for Kids - Window S...</td>\n",
       "      <td>I love this product very mush . I have bought ...</td>\n",
       "      <td>5</td>\n",
       "      <td>{'I': 2, 'love': 1, 'this': 1, 'product': 1, '...</td>\n",
       "      <td>True</td>\n",
       "    </tr>\n",
       "  </tbody>\n",
       "</table>\n",
       "<p>166752 rows × 5 columns</p>\n",
       "</div>"
      ],
      "text/plain": [
       "                                                     name  \\\n",
       "1                                   Planetwise Wipe Pouch   \n",
       "2                     Annas Dream Full Quilt with 2 Shams   \n",
       "3       Stop Pacifier Sucking without tears with Thumb...   \n",
       "4       Stop Pacifier Sucking without tears with Thumb...   \n",
       "5       Stop Pacifier Sucking without tears with Thumb...   \n",
       "...                                                   ...   \n",
       "183526  Baby Teething Necklace for Mom Pretty Donut Sh...   \n",
       "183527  Baby Teething Necklace for Mom Pretty Donut Sh...   \n",
       "183528   Abstract 2 PK Baby / Toddler Training Cup (Pink)   \n",
       "183529  Baby Food Freezer Tray - Bacteria Resistant, B...   \n",
       "183530  Best 2 Pack Baby Car Shade for Kids - Window S...   \n",
       "\n",
       "                                                   review  rating  \\\n",
       "1       it came early and was not disappointed. i love...       5   \n",
       "2       Very soft and comfortable and warmer than it l...       5   \n",
       "3       This is a product well worth the purchase.  I ...       5   \n",
       "4       All of my kids have cried non-stop when I trie...       5   \n",
       "5       When the Binky Fairy came to our house, we did...       5   \n",
       "...                                                   ...     ...   \n",
       "183526  Such a great idea! very handy to have and look...       5   \n",
       "183527  This product rocks!  It is a great blend of fu...       5   \n",
       "183528  This item looks great and cool for my kids.......       5   \n",
       "183529  I am extremely happy with this product. I have...       5   \n",
       "183530  I love this product very mush . I have bought ...       5   \n",
       "\n",
       "                                               word_count  sentiment  \n",
       "1       {'it': 3, 'came': 1, 'early': 1, 'and': 3, 'wa...       True  \n",
       "2       {'Very': 1, 'soft': 1, 'and': 2, 'comfortable'...       True  \n",
       "3       {'This': 1, 'is': 4, 'a': 2, 'product': 2, 'we...       True  \n",
       "4       {'All': 1, 'of': 1, 'my': 1, 'kids': 2, 'have'...       True  \n",
       "5       {'When': 1, 'the': 5, 'Binky': 3, 'Fairy': 3, ...       True  \n",
       "...                                                   ...        ...  \n",
       "183526  {'Such': 1, 'a': 1, 'great': 2, 'idea': 1, '!'...       True  \n",
       "183527  {'This': 1, 'product': 2, 'rocks': 1, '!': 1, ...       True  \n",
       "183528  {'This': 1, 'item': 1, 'looks': 1, 'great': 2,...       True  \n",
       "183529  {'I': 9, 'am': 2, 'extremely': 1, 'happy': 1, ...       True  \n",
       "183530  {'I': 2, 'love': 1, 'this': 1, 'product': 1, '...       True  \n",
       "\n",
       "[166752 rows x 5 columns]"
      ]
     },
     "execution_count": 15,
     "metadata": {},
     "output_type": "execute_result"
    }
   ],
   "source": [
    "products"
   ]
  },
  {
   "cell_type": "markdown",
   "metadata": {
    "id": "zW9mHMHymeeW"
   },
   "source": [
    "##Hãy huấn luyện bộ phân loại cảm xúc với LogisticRegression"
   ]
  },
  {
   "cell_type": "code",
   "execution_count": 16,
   "metadata": {
    "id": "hH56fOgLmeeX",
    "outputId": "7967199c-db8c-40bb-a589-fd041345411f"
   },
   "outputs": [
    {
     "name": "stdout",
     "output_type": "stream",
     "text": [
      "132780 33195\n"
     ]
    }
   ],
   "source": [
    "# xây dựng mô hình LogisticRegression \n",
    "from sklearn.model_selection import train_test_split\n",
    "train_data, test_data = train_test_split(products.dropna(subset=(\"review\", \"sentiment\")), train_size=0.8, test_size=0.2, random_state=0)\n",
    "#train_data,test_data = products.random_split(.8, seed=0)\n",
    "print(len(train_data), len(test_data))"
   ]
  },
  {
   "cell_type": "code",
   "execution_count": 17,
   "metadata": {
    "id": "ad8IZ4VUmeed"
   },
   "outputs": [],
   "source": [
    "# tạo dữ liệu huấn luyện và kiểm tra\n",
    "from sklearn.feature_extraction.text import CountVectorizer\n",
    "vectorizer = CountVectorizer(tokenizer=word_tokenize)\n",
    "train_features = vectorizer.fit_transform(train_data['review'].values)\n",
    "train_labels = train_data['sentiment'].astype(int).values\n",
    "test_features = vectorizer.transform(test_data['review'].values)\n",
    "test_labels = test_data['sentiment'].astype(int).values"
   ]
  },
  {
   "cell_type": "code",
   "execution_count": 18,
   "metadata": {
    "id": "Df3e3f5lmeel",
    "outputId": "bb48f4fd-ee0d-4aef-a340-0a90e138991f"
   },
   "outputs": [
    {
     "name": "stderr",
     "output_type": "stream",
     "text": [
      "c:\\users\\admin\\miniconda3\\lib\\site-packages\\sklearn\\linear_model\\_logistic.py:763: ConvergenceWarning: lbfgs failed to converge (status=1):\n",
      "STOP: TOTAL NO. of ITERATIONS REACHED LIMIT.\n",
      "\n",
      "Increase the number of iterations (max_iter) or scale the data as shown in:\n",
      "    https://scikit-learn.org/stable/modules/preprocessing.html\n",
      "Please also refer to the documentation for alternative solver options:\n",
      "    https://scikit-learn.org/stable/modules/linear_model.html#logistic-regression\n",
      "  n_iter_i = _check_optimize_result(\n"
     ]
    }
   ],
   "source": [
    "from sklearn.linear_model import LogisticRegression\n",
    "sentiment_model = LogisticRegression(max_iter=1000).fit(train_features, train_labels)"
   ]
  },
  {
   "cell_type": "markdown",
   "metadata": {
    "id": "QjEalL5Qmees"
   },
   "source": [
    "#Đánh giá mô hình cảm xúc"
   ]
  },
  {
   "cell_type": "code",
   "execution_count": 19,
   "metadata": {
    "id": "3rGtv6Fzmeet",
    "outputId": "906bbfba-f281-4c11-acde-17169bb4db58"
   },
   "outputs": [
    {
     "name": "stdout",
     "output_type": "stream",
     "text": [
      "[[1.12924653e-04 9.99887075e-01]\n",
      " [9.99987095e-01 1.29052946e-05]]\n",
      "[1 0]\n"
     ]
    }
   ],
   "source": [
    "print(sentiment_model.predict_proba(test_features[:2]))\n",
    "print(sentiment_model.predict(test_features[:2]))"
   ]
  },
  {
   "cell_type": "code",
   "execution_count": 20,
   "metadata": {
    "id": "QyR3E2Wamee0",
    "outputId": "a4c26a8d-3528-439f-fc0d-8dde6cce766d"
   },
   "outputs": [
    {
     "name": "stdout",
     "output_type": "stream",
     "text": [
      "Model score: 0.935261334538334\n",
      "FPR/TPR amount: 3255 3255\n"
     ]
    },
    {
     "data": {
      "image/png": "[encoded data removed]",
      "text/plain": [
       "<Figure size 432x288 with 1 Axes>"
      ]
     },
     "metadata": {
      "needs_background": "light"
     },
     "output_type": "display_data"
    }
   ],
   "source": [
    "#sentiment_model.evaluate(test_data, metric='roc_curve')\n",
    "from sklearn.metrics import roc_curve, roc_auc_score, auc\n",
    "test_predictions = sentiment_model.predict_proba(test_features)[:, 1]\n",
    "fpr, tpr, threshold = roc_curve(test_labels, test_predictions)\n",
    "roc_auc = auc(fpr, tpr)\n",
    "print(\"Model score:\", sentiment_model.score(test_features, test_labels))\n",
    "print(\"FPR/TPR amount:\", len(fpr), len(tpr))\n",
    "\n",
    "plt.plot(fpr, tpr, 'b', label = 'AUC = %0.2f' % roc_auc)\n",
    "plt.plot([0, 1], [0, 1],'r--')\n",
    "plt.xlim([0, 1])\n",
    "plt.ylim([0, 1])\n",
    "plt.ylabel('True Positive Rate')\n",
    "plt.xlabel('False Positive Rate')\n",
    "plt.legend(loc = 'lower right')\n",
    "plt.show()"
   ]
  },
  {
   "cell_type": "code",
   "execution_count": 21,
   "metadata": {
    "id": "FpGpoPVAmee4"
   },
   "outputs": [],
   "source": [
    "#sentiment_model.show(view='Evaluation')"
   ]
  },
  {
   "cell_type": "markdown",
   "metadata": {
    "id": "9GC8INhAmee9"
   },
   "source": [
    "#Áp dụng mô hình đã học để biết cảm xúc cho các bình luận về đồ chơi Giraffe"
   ]
  },
  {
   "cell_type": "code",
   "execution_count": 22,
   "metadata": {
    "id": "FvzoLIxQmee-"
   },
   "outputs": [],
   "source": [
    "giraffe_reviews = giraffe_reviews.dropna(subset=['review'])\n",
    "giraffe_reviews_features = vectorizer.transform(giraffe_reviews['review'].values)\n",
    "giraffe_reviews['predicted_sentiment'] = sentiment_model.predict_proba(giraffe_reviews_features)[:, 1]"
   ]
  },
  {
   "cell_type": "code",
   "execution_count": 23,
   "metadata": {
    "id": "h9Om_9pTmefE",
    "outputId": "ccd90c88-0363-4d94-953d-82ae64287d8d"
   },
   "outputs": [
    {
     "data": {
      "text/html": [
       "<div>\n",
       "<style scoped>\n",
       "    .dataframe tbody tr th:only-of-type {\n",
       "        vertical-align: middle;\n",
       "    }\n",
       "\n",
       "    .dataframe tbody tr th {\n",
       "        vertical-align: top;\n",
       "    }\n",
       "\n",
       "    .dataframe thead th {\n",
       "        text-align: right;\n",
       "    }\n",
       "</style>\n",
       "<table border=\"1\" class=\"dataframe\">\n",
       "  <thead>\n",
       "    <tr style=\"text-align: right;\">\n",
       "      <th></th>\n",
       "      <th>name</th>\n",
       "      <th>review</th>\n",
       "      <th>rating</th>\n",
       "      <th>word_count</th>\n",
       "      <th>predicted_sentiment</th>\n",
       "    </tr>\n",
       "  </thead>\n",
       "  <tbody>\n",
       "    <tr>\n",
       "      <th>34313</th>\n",
       "      <td>Vulli Sophie the Giraffe Teether</td>\n",
       "      <td>He likes chewing on all the parts especially t...</td>\n",
       "      <td>5</td>\n",
       "      <td>{'He': 1, 'likes': 1, 'chewing': 1, 'on': 1, '...</td>\n",
       "      <td>0.998963</td>\n",
       "    </tr>\n",
       "    <tr>\n",
       "      <th>34314</th>\n",
       "      <td>Vulli Sophie the Giraffe Teether</td>\n",
       "      <td>My son loves this toy and fits great in the di...</td>\n",
       "      <td>5</td>\n",
       "      <td>{'My': 1, 'son': 1, 'loves': 1, 'this': 1, 'to...</td>\n",
       "      <td>0.999739</td>\n",
       "    </tr>\n",
       "    <tr>\n",
       "      <th>34315</th>\n",
       "      <td>Vulli Sophie the Giraffe Teether</td>\n",
       "      <td>There really should be a large warning on the ...</td>\n",
       "      <td>1</td>\n",
       "      <td>{'There': 1, 'really': 1, 'should': 1, 'be': 1...</td>\n",
       "      <td>0.173587</td>\n",
       "    </tr>\n",
       "    <tr>\n",
       "      <th>34316</th>\n",
       "      <td>Vulli Sophie the Giraffe Teether</td>\n",
       "      <td>All the moms in my moms\\' group got Sophie for...</td>\n",
       "      <td>5</td>\n",
       "      <td>{'All': 1, 'the': 2, 'moms': 1, 'in': 1, 'my':...</td>\n",
       "      <td>0.973331</td>\n",
       "    </tr>\n",
       "    <tr>\n",
       "      <th>34317</th>\n",
       "      <td>Vulli Sophie the Giraffe Teether</td>\n",
       "      <td>I was a little skeptical on whether Sophie was...</td>\n",
       "      <td>5</td>\n",
       "      <td>{'I': 4, 'was': 2, 'a': 1, 'little': 1, 'skept...</td>\n",
       "      <td>0.388754</td>\n",
       "    </tr>\n",
       "  </tbody>\n",
       "</table>\n",
       "</div>"
      ],
      "text/plain": [
       "                                   name  \\\n",
       "34313  Vulli Sophie the Giraffe Teether   \n",
       "34314  Vulli Sophie the Giraffe Teether   \n",
       "34315  Vulli Sophie the Giraffe Teether   \n",
       "34316  Vulli Sophie the Giraffe Teether   \n",
       "34317  Vulli Sophie the Giraffe Teether   \n",
       "\n",
       "                                                  review  rating  \\\n",
       "34313  He likes chewing on all the parts especially t...       5   \n",
       "34314  My son loves this toy and fits great in the di...       5   \n",
       "34315  There really should be a large warning on the ...       1   \n",
       "34316  All the moms in my moms\\' group got Sophie for...       5   \n",
       "34317  I was a little skeptical on whether Sophie was...       5   \n",
       "\n",
       "                                              word_count  predicted_sentiment  \n",
       "34313  {'He': 1, 'likes': 1, 'chewing': 1, 'on': 1, '...             0.998963  \n",
       "34314  {'My': 1, 'son': 1, 'loves': 1, 'this': 1, 'to...             0.999739  \n",
       "34315  {'There': 1, 'really': 1, 'should': 1, 'be': 1...             0.173587  \n",
       "34316  {'All': 1, 'the': 2, 'moms': 1, 'in': 1, 'my':...             0.973331  \n",
       "34317  {'I': 4, 'was': 2, 'a': 1, 'little': 1, 'skept...             0.388754  "
      ]
     },
     "execution_count": 23,
     "metadata": {},
     "output_type": "execute_result"
    }
   ],
   "source": [
    "giraffe_reviews.head()"
   ]
  },
  {
   "cell_type": "markdown",
   "metadata": {
    "id": "PfyFNRb6mefK"
   },
   "source": [
    "##Sắp xếp các bình luận dựa trên cảm xúc đã dự đoán và khám phá"
   ]
  },
  {
   "cell_type": "code",
   "execution_count": 24,
   "metadata": {
    "id": "WnqsiyCFmefL"
   },
   "outputs": [],
   "source": [
    "giraffe_reviews = giraffe_reviews.sort_values('predicted_sentiment', ascending=False)"
   ]
  },
  {
   "cell_type": "code",
   "execution_count": 25,
   "metadata": {
    "id": "Jc3lGguemefT",
    "outputId": "f0a9c03f-bb9b-4551-996c-397bf530b2e0"
   },
   "outputs": [
    {
     "data": {
      "text/html": [
       "<div>\n",
       "<style scoped>\n",
       "    .dataframe tbody tr th:only-of-type {\n",
       "        vertical-align: middle;\n",
       "    }\n",
       "\n",
       "    .dataframe tbody tr th {\n",
       "        vertical-align: top;\n",
       "    }\n",
       "\n",
       "    .dataframe thead th {\n",
       "        text-align: right;\n",
       "    }\n",
       "</style>\n",
       "<table border=\"1\" class=\"dataframe\">\n",
       "  <thead>\n",
       "    <tr style=\"text-align: right;\">\n",
       "      <th></th>\n",
       "      <th>name</th>\n",
       "      <th>review</th>\n",
       "      <th>rating</th>\n",
       "      <th>word_count</th>\n",
       "      <th>predicted_sentiment</th>\n",
       "    </tr>\n",
       "  </thead>\n",
       "  <tbody>\n",
       "    <tr>\n",
       "      <th>34892</th>\n",
       "      <td>Vulli Sophie the Giraffe Teether</td>\n",
       "      <td>Sophie, oh Sophie, your time has come. My gran...</td>\n",
       "      <td>5</td>\n",
       "      <td>{'Sophie': 17, ',': 8, 'oh': 1, 'your': 1, 'ti...</td>\n",
       "      <td>1.0</td>\n",
       "    </tr>\n",
       "    <tr>\n",
       "      <th>34434</th>\n",
       "      <td>Vulli Sophie the Giraffe Teether</td>\n",
       "      <td>My Mom-in-Law bought Sophie for my son when he...</td>\n",
       "      <td>5</td>\n",
       "      <td>{'My': 1, 'Mom-in-Law': 1, 'bought': 1, 'Sophi...</td>\n",
       "      <td>1.0</td>\n",
       "    </tr>\n",
       "    <tr>\n",
       "      <th>34515</th>\n",
       "      <td>Vulli Sophie the Giraffe Teether</td>\n",
       "      <td>As every mom knows, you always want to give yo...</td>\n",
       "      <td>5</td>\n",
       "      <td>{'As': 1, 'every': 1, 'mom': 1, 'knows': 1, ',...</td>\n",
       "      <td>1.0</td>\n",
       "    </tr>\n",
       "    <tr>\n",
       "      <th>34442</th>\n",
       "      <td>Vulli Sophie the Giraffe Teether</td>\n",
       "      <td>Yes, it\\'s imported. Yes, it\\'s expensive. And...</td>\n",
       "      <td>5</td>\n",
       "      <td>{'Yes': 2, ',': 14, 'it\\': 4, ''s': 6, 'import...</td>\n",
       "      <td>1.0</td>\n",
       "    </tr>\n",
       "    <tr>\n",
       "      <th>34746</th>\n",
       "      <td>Vulli Sophie the Giraffe Teether</td>\n",
       "      <td>Sophie the Giraffe is the perfect teething toy...</td>\n",
       "      <td>5</td>\n",
       "      <td>{'Sophie': 5, 'the': 6, 'Giraffe': 1, 'is': 7,...</td>\n",
       "      <td>1.0</td>\n",
       "    </tr>\n",
       "  </tbody>\n",
       "</table>\n",
       "</div>"
      ],
      "text/plain": [
       "                                   name  \\\n",
       "34892  Vulli Sophie the Giraffe Teether   \n",
       "34434  Vulli Sophie the Giraffe Teether   \n",
       "34515  Vulli Sophie the Giraffe Teether   \n",
       "34442  Vulli Sophie the Giraffe Teether   \n",
       "34746  Vulli Sophie the Giraffe Teether   \n",
       "\n",
       "                                                  review  rating  \\\n",
       "34892  Sophie, oh Sophie, your time has come. My gran...       5   \n",
       "34434  My Mom-in-Law bought Sophie for my son when he...       5   \n",
       "34515  As every mom knows, you always want to give yo...       5   \n",
       "34442  Yes, it\\'s imported. Yes, it\\'s expensive. And...       5   \n",
       "34746  Sophie the Giraffe is the perfect teething toy...       5   \n",
       "\n",
       "                                              word_count  predicted_sentiment  \n",
       "34892  {'Sophie': 17, ',': 8, 'oh': 1, 'your': 1, 'ti...                  1.0  \n",
       "34434  {'My': 1, 'Mom-in-Law': 1, 'bought': 1, 'Sophi...                  1.0  \n",
       "34515  {'As': 1, 'every': 1, 'mom': 1, 'knows': 1, ',...                  1.0  \n",
       "34442  {'Yes': 2, ',': 14, 'it\\': 4, ''s': 6, 'import...                  1.0  \n",
       "34746  {'Sophie': 5, 'the': 6, 'Giraffe': 1, 'is': 7,...                  1.0  "
      ]
     },
     "execution_count": 25,
     "metadata": {},
     "output_type": "execute_result"
    }
   ],
   "source": [
    "giraffe_reviews.head()"
   ]
  },
  {
   "cell_type": "markdown",
   "metadata": {
    "id": "N0waZzmbmefa"
   },
   "source": [
    "##Các bình luận tích cực nhất về đồ chơi giraffe"
   ]
  },
  {
   "cell_type": "code",
   "execution_count": 26,
   "metadata": {
    "id": "b9iHK5H5mefc"
   },
   "outputs": [
    {
     "data": {
      "text/plain": [
       "\"Sophie, oh Sophie, your time has come. My granddaughter, Violet is 5 months old and starting to teeth. What joy little Sophie brings to Violet. Sophie is made of a very pliable rubber that is sturdy but not tough. It is quite easy for Violet to twist Sophie into unheard of positions to get Sophie into her mouth. The little nose and hooves fit perfectly into small mouths, and the drooling has purpose. The paint on Sophie is food quality.Sophie was born in 1961 in France. The maker had wondered why there was nothing available for babies and made Sophie from the finest rubber, phthalate-free on St Sophie\\\\'s Day, thus the name was born. Since that time millions of Sophie\\\\'s populate the world. She is soft and for babies little hands easy to grasp. Violet especially loves the bumpy head and horns of Sophie. Sophie has a long neck that easy to grasp and twist. She has lovely, sizable spots that attract Violet\\\\'s attention. Sophie has happy little squeaks that bring squeals of delight from Violet. She is able to make Sophie squeak and that brings much joy. Sophie\\\\'s smooth skin is soothing to Violet\\\\'s little gums. Sophie is 7 inches tall and is the exact correct size for babies to hold and love.As you well know the first thing babies grasp, goes into their mouths- how wonderful to have a toy that stimulates all of the senses and helps with the issue of teething. Sophie is small enough to fit into any size pocket or bag. Sophie is the perfect find for babies from a few months to a year old. How wonderful to hear the giggles and laughs that emanate from babies who find Sophie irresistible. Viva La Sophie!Highly Recommended.  prisrob 12-11-09\""
      ]
     },
     "execution_count": 26,
     "metadata": {},
     "output_type": "execute_result"
    }
   ],
   "source": [
    "giraffe_reviews['review'].values[0]"
   ]
  },
  {
   "cell_type": "code",
   "execution_count": 27,
   "metadata": {
    "id": "IXR2vKwCmefk"
   },
   "outputs": [
    {
     "data": {
      "text/plain": [
       "'My Mom-in-Law bought Sophie for my son when he was just starting to really chew on things (and we were hearing some pretty scary things about toys not made in the USA). She did some research and came across Sophie and we are so glad that she did! While Sophie doesn\\\\\\'t come from the USA, we love the fact that she is 100% safe and natural, and my son loves to play with her. I also love how soft Sophie is, my son tends to swing his toys around and when he\\\\\\'s sitting on my lap I\\\\\\'m usually in danger of being hit in the face with whatever he\\\\\\'s holding, needless to say a soft toy is even better in my book! There\\\\\\'s one last thing I want to comment on, I\\\\\\'ve read reviews that said that Sophie was a \"glorified dog toy\" or something to that effect, and I don\\\\\\'t want to seem rude, but I think they\\\\\\'re crazy! Yes Sophie does squeak, (which my son didn\\\\\\'t care about much at first but now he loves) but that\\\\\\'s about as far as the comparison could go! If you want a quality teething toy for your child then look no further! Sophie is adorable, soft, perfect for little hands, 100% natural, and SAFE!!!!!!! Definitely worth every penny!!'"
      ]
     },
     "execution_count": 27,
     "metadata": {},
     "output_type": "execute_result"
    }
   ],
   "source": [
    "giraffe_reviews['review'].values[1]"
   ]
  },
  {
   "cell_type": "markdown",
   "metadata": {
    "id": "YYoGbBHqmefr"
   },
   "source": [
    "##Các bình luận tiêu cực nhất về đồ chơi giraffe"
   ]
  },
  {
   "cell_type": "code",
   "execution_count": 28,
   "metadata": {
    "id": "ewhKCIaBmefs"
   },
   "outputs": [
    {
     "data": {
      "text/plain": [
       "'I wanted to love this product and was excited to buy it when I became pregnant but am now hesitant to let my baby use it after reading about the recall in Europe. Apparently, as I understand it, their toxin standards of measurement are lower than ours so they have not been recalled here (apparently we are OK with low levels of nitrates in the toys our children put in their mouths, but Europeans are not...hmmm)...Be that as it may, toxins registering even CLOSE to a dangerous level made me nervous about using. After digging around online I did discover that the company claims to have changed the product after a certain date and lists manufacturing codes so you can check yours (those listed were made after a certain date and are said to be safer). Sadly mine was not made after the &#34;improved&#34; date but I could not return it because there was no formal recall in our country. I considered returning it and hunting for one with an approved manufacturing date but man that was just too much work. Bummed but not ready to take a risk with my baby.'"
      ]
     },
     "execution_count": 28,
     "metadata": {},
     "output_type": "execute_result"
    }
   ],
   "source": [
    "giraffe_reviews['review'].values[-1]"
   ]
  },
  {
   "cell_type": "code",
   "execution_count": 29,
   "metadata": {
    "id": "WEdntSCFmef6"
   },
   "outputs": [
    {
     "data": {
      "text/plain": [
       "\"I was so looking forward to getting this for my little girl, but from the second I opened the box I was disappointed.  It didn\\\\'t smell like vanilla rubber; it smelled like latex.  I don\\\\'t get HOW it can be called a teether.  It is a squeak toy.  Period.  It is completely hollow and has an obnoxious squeak when you barely even touch it.  It is so flexible that I don\\\\'t see how a- it can be safe (which reading some of the other negative reviews I now see that it probably isn\\\\'t safe) or b- can be effective.  This thing gives at the slightest touch, so how can it possibly aid in cutting teeth or massaging the gums?Additionally, you cannot sterilize this toy.  So... let\\\\'s see.  My baby got thrush when she was only 2 weeks old and I had to sterilize everything that came in contact with her mouth.  What would I have done with this then?  And she just got over her first cold, so again everything was sterilized.  You need to sterilize things with a baby- you just do.  How can this be a toy that you can\\\\'t sterilize?!?I will be going to Barnes and Noble tomorrow to compare and see if this is the same as what they have there, but either way I\\\\'m sorely disappointed in this purchase.  I\\\\'ve bought dog toys that would have made better teethers.  Heck, I have a baby Garanimals water toy giraffe that would be a safer and more effective teether.  **I have two other toys by Vulli and they DO HAVE the natural rubber smell.  This is going back to Amazon.**\""
      ]
     },
     "execution_count": 29,
     "metadata": {},
     "output_type": "execute_result"
    }
   ],
   "source": [
    "giraffe_reviews['review'].values[-2]"
   ]
  },
  {
   "cell_type": "code",
   "execution_count": null,
   "metadata": {
    "id": "HILWrRgvmef_"
   },
   "outputs": [],
   "source": []
  }
 ],
 "metadata": {
  "colab": {
   "collapsed_sections": [],
   "name": "[VN] Lab 11.2-Analyzing product sentiment.ipynb",
   "provenance": [],
   "toc_visible": true
  },
  "kernelspec": {
   "display_name": "Python 3 (ipykernel)",
   "language": "python",
   "name": "python3"
  },
  "language_info": {
   "codemirror_mode": {
    "name": "ipython",
    "version": 3
   },
   "file_extension": ".py",
   "mimetype": "text/x-python",
   "name": "python",
   "nbconvert_exporter": "python",
   "pygments_lexer": "ipython3",
   "version": "3.9.1"
  }
 },
 "nbformat": 4,
 "nbformat_minor": 1
}
